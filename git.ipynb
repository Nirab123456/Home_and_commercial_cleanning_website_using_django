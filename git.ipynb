{
 "cells": [
  {
   "cell_type": "code",
   "execution_count": null,
   "metadata": {},
   "outputs": [],
   "source": [
    "!git pull origin Banglaocr\n",
    "\n"
   ]
  },
  {
   "cell_type": "code",
   "execution_count": 2,
   "metadata": {},
   "outputs": [
    {
     "name": "stderr",
     "output_type": "stream",
     "text": [
      "Switched to a new branch 'rifatul_islam_v5_refresh'\n"
     ]
    }
   ],
   "source": [
    "!git checkout -b rifatul_islam_v5_refresh"
   ]
  },
  {
   "cell_type": "code",
   "execution_count": 1,
   "metadata": {},
   "outputs": [
    {
     "name": "stderr",
     "output_type": "stream",
     "text": [
      "warning: in the working copy of 'git.ipynb', LF will be replaced by CRLF the next time Git touches it\n"
     ]
    },
    {
     "name": "stdout",
     "output_type": "stream",
     "text": [
      "[main (root-commit) bc6872a] starting a new cleaning service website\n",
      " 81 files changed, 16978 insertions(+)\n",
      " create mode 100644 git.ipynb\n",
      " create mode 100644 troy/cleaning/__init__.py\n",
      " create mode 100644 troy/cleaning/__pycache__/__init__.cpython-38.pyc\n",
      " create mode 100644 troy/cleaning/__pycache__/admin.cpython-38.pyc\n",
      " create mode 100644 troy/cleaning/__pycache__/apps.cpython-38.pyc\n",
      " create mode 100644 troy/cleaning/__pycache__/models.cpython-38.pyc\n",
      " create mode 100644 troy/cleaning/__pycache__/urls.cpython-38.pyc\n",
      " create mode 100644 troy/cleaning/__pycache__/views.cpython-38.pyc\n",
      " create mode 100644 troy/cleaning/admin.py\n",
      " create mode 100644 troy/cleaning/apps.py\n",
      " create mode 100644 troy/cleaning/migrations/__init__.py\n",
      " create mode 100644 troy/cleaning/migrations/__pycache__/__init__.cpython-38.pyc\n",
      " create mode 100644 troy/cleaning/models.py\n",
      " create mode 100644 troy/cleaning/templates/home.html\n",
      " create mode 100644 troy/cleaning/templatetags/__init__.py\n",
      " create mode 100644 troy/cleaning/templatetags/__pycache__/__init__.cpython-38.pyc\n",
      " create mode 100644 troy/cleaning/templatetags/__pycache__/about_me.cpython-38.pyc\n",
      " create mode 100644 troy/cleaning/templatetags/__pycache__/blog_static.cpython-38.pyc\n",
      " create mode 100644 troy/cleaning/templatetags/__pycache__/custom_filters.cpython-38.pyc\n",
      " create mode 100644 troy/cleaning/templatetags/__pycache__/main_template.cpython-38.pyc\n",
      " create mode 100644 troy/cleaning/templatetags/main_template.py\n",
      " create mode 100644 troy/cleaning/tests.py\n",
      " create mode 100644 troy/cleaning/urls.py\n",
      " create mode 100644 troy/cleaning/views.py\n",
      " create mode 100644 troy/main_template/bmi/child_lookup.json\n",
      " create mode 100644 troy/main_template/bmi/config.json\n",
      " create mode 100644 troy/main_template/bmi/css/bmi-desktop.css\n",
      " create mode 100644 troy/main_template/bmi/css/bmi-shared.css\n",
      " create mode 100644 troy/main_template/bmi/data.json\n",
      " create mode 100644 troy/main_template/bmi/images/alert_sml.png\n",
      " create mode 100644 troy/main_template/bmi/images/input_bg.png\n",
      " create mode 100644 troy/main_template/bmi/images/plus.png\n",
      " create mode 100644 troy/main_template/bmi/images/pointer.png\n",
      " create mode 100644 troy/main_template/bmi/images/slider_adult_1.png\n",
      " create mode 100644 troy/main_template/bmi/images/slider_child.png\n",
      " create mode 100644 troy/main_template/bmi/js/app.main.min.js\n",
      " create mode 100644 troy/main_template/bmi/js/inline_launcher.js\n",
      " create mode 100644 troy/main_template/bmi/templates/index copy.html\n",
      " create mode 100644 troy/main_template/bmi/templates/index.html\n",
      " create mode 100644 troy/main_template/bmi/vendor/jquery-3.2.1.min.js\n",
      " create mode 100644 troy/main_template/css/bootstrap-icons.css\n",
      " create mode 100644 troy/main_template/css/bootstrap.min.css\n",
      " create mode 100644 troy/main_template/css/bootstrap.min.css.map\n",
      " create mode 100644 troy/main_template/css/heart_bit.css\n",
      " create mode 100644 troy/main_template/css/rotating_border_animated_buttons.css\n",
      " create mode 100644 troy/main_template/css/templatemo-topic-listing.css\n",
      " create mode 100644 troy/main_template/fonts/bootstrap-icons.woff\n",
      " create mode 100644 troy/main_template/fonts/bootstrap-icons.woff2\n",
      " create mode 100644 troy/main_template/images/businesswoman-using-tablet-analysis.jpg\n",
      " create mode 100644 troy/main_template/images/colleagues-working-cozy-office-medium-shot.jpg\n",
      " create mode 100644 troy/main_template/images/faq_graphic.jpg\n",
      " create mode 100644 troy/main_template/images/rear-view-young-college-student.jpg\n",
      " create mode 100644 troy/main_template/images/topics/colleagues-working-cozy-office-medium-shot.png\n",
      " create mode 100644 troy/main_template/images/topics/undraw_Compose_music_re_wpiw.png\n",
      " create mode 100644 troy/main_template/images/topics/undraw_Educator_re_ju47.png\n",
      " create mode 100644 troy/main_template/images/topics/undraw_Finance_re_gnv2.png\n",
      " create mode 100644 troy/main_template/images/topics/undraw_Graduation_re_gthn.png\n",
      " create mode 100644 troy/main_template/images/topics/undraw_Group_video_re_btu7.png\n",
      " create mode 100644 troy/main_template/images/topics/undraw_Podcast_audience_re_4i5q.png\n",
      " create mode 100644 troy/main_template/images/topics/undraw_Redesign_feedback_re_jvm0.png\n",
      " create mode 100644 troy/main_template/images/topics/undraw_Remote_design_team_re_urdx.png\n",
      " create mode 100644 troy/main_template/images/topics/undraw_happy_music_g6wc.png\n",
      " create mode 100644 troy/main_template/images/topics/undraw_online_ad_re_ol62.png\n",
      " create mode 100644 troy/main_template/images/topics/undraw_viral_tweet_gndb.png\n",
      " create mode 100644 troy/main_template/js/bootstrap.bundle.min.js\n",
      " create mode 100644 troy/main_template/js/bootstrap.bundle.min.js.map\n",
      " create mode 100644 troy/main_template/js/click-scroll.js\n",
      " create mode 100644 troy/main_template/js/custom.js\n",
      " create mode 100644 troy/main_template/js/jquery.min.js\n",
      " create mode 100644 troy/main_template/js/jquery.sticky.js\n",
      " create mode 100644 troy/main_template/js/med_details_results.js\n",
      " create mode 100644 troy/manage.py\n",
      " create mode 100644 troy/troy/__init__.py\n",
      " create mode 100644 troy/troy/__pycache__/__init__.cpython-38.pyc\n",
      " create mode 100644 troy/troy/__pycache__/settings.cpython-38.pyc\n",
      " create mode 100644 troy/troy/__pycache__/urls.cpython-38.pyc\n",
      " create mode 100644 troy/troy/__pycache__/wsgi.cpython-38.pyc\n",
      " create mode 100644 troy/troy/asgi.py\n",
      " create mode 100644 troy/troy/settings.py\n",
      " create mode 100644 troy/troy/urls.py\n",
      " create mode 100644 troy/troy/wsgi.py\n"
     ]
    },
    {
     "name": "stderr",
     "output_type": "stream",
     "text": [
      "To https://github.com/Nirab123456/troy.git\n",
      " * [new branch]      main -> main\n"
     ]
    }
   ],
   "source": [
    "!git add .\n",
    "!git commit -m \"starting a new cleaning service website\"\n",
    "!git push "
   ]
  },
  {
   "cell_type": "code",
   "execution_count": 1,
   "metadata": {},
   "outputs": [
    {
     "name": "stderr",
     "output_type": "stream",
     "text": [
      "warning: in the working copy of 'git.ipynb', LF will be replaced by CRLF the next time Git touches it\n"
     ]
    },
    {
     "name": "stdout",
     "output_type": "stream",
     "text": [
      "[rifatul_islam_v5_refresh 64ad665] presciption classification has been also shifted now i will restracture the full project in another branch\n",
      " 2 files changed, 42 insertions(+), 11 deletions(-)\n"
     ]
    },
    {
     "name": "stderr",
     "output_type": "stream",
     "text": [
      "remote: \n",
      "remote: GitHub found 25 vulnerabilities on Nirab123456/learn_django's default branch (6 critical, 13 high, 5 moderate, 1 low). To find out more, visit:        \n",
      "remote:      https://github.com/Nirab123456/learn_django/security/dependabot        \n",
      "remote: \n",
      "To https://github.com/Nirab123456/learn_django.git\n",
      "   7106a27..64ad665  rifatul_islam_v5_refresh -> rifatul_islam_v5_refresh\n"
     ]
    }
   ],
   "source": [
    "!git add .\n",
    "!git commit -m \"presciption classification has been also shifted now i will restracture the full project in another branch\"\n",
    "!git push origin rifatul_islam_v5_refresh"
   ]
  },
  {
   "cell_type": "code",
   "execution_count": null,
   "metadata": {},
   "outputs": [],
   "source": [
    "!git status"
   ]
  },
  {
   "cell_type": "code",
   "execution_count": null,
   "metadata": {},
   "outputs": [],
   "source": [
    "!git add ."
   ]
  },
  {
   "cell_type": "code",
   "execution_count": null,
   "metadata": {},
   "outputs": [],
   "source": [
    "!git commit -m \" \""
   ]
  },
  {
   "cell_type": "code",
   "execution_count": null,
   "metadata": {},
   "outputs": [],
   "source": [
    "\n",
    "!git push origin Banglaocr"
   ]
  },
  {
   "cell_type": "code",
   "execution_count": null,
   "metadata": {},
   "outputs": [],
   "source": [
    "!git checkout Banglaocr_with_bootstrap5\n"
   ]
  },
  {
   "cell_type": "code",
   "execution_count": null,
   "metadata": {},
   "outputs": [],
   "source": [
    "!git push origin secondary\n"
   ]
  },
  {
   "cell_type": "code",
   "execution_count": null,
   "metadata": {},
   "outputs": [],
   "source": [
    "!git status"
   ]
  }
 ],
 "metadata": {
  "kernelspec": {
   "display_name": "tf",
   "language": "python",
   "name": "python3"
  },
  "language_info": {
   "codemirror_mode": {
    "name": "ipython",
    "version": 3
   },
   "file_extension": ".py",
   "mimetype": "text/x-python",
   "name": "python",
   "nbconvert_exporter": "python",
   "pygments_lexer": "ipython3",
   "version": "3.8.16"
  },
  "orig_nbformat": 4
 },
 "nbformat": 4,
 "nbformat_minor": 2
}
