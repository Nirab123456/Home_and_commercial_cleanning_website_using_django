{
 "cells": [
  {
   "cell_type": "code",
   "execution_count": null,
   "metadata": {},
   "outputs": [],
   "source": [
    "!git pull origin Banglaocr\n",
    "\n"
   ]
  },
  {
   "cell_type": "code",
   "execution_count": 2,
   "metadata": {},
   "outputs": [
    {
     "name": "stderr",
     "output_type": "stream",
     "text": [
      "Switched to a new branch 'rifatul_islam_v5_refresh'\n"
     ]
    }
   ],
   "source": [
    "!git checkout -b rifatul_islam_v5_refresh"
   ]
  },
  {
   "cell_type": "code",
   "execution_count": 1,
   "metadata": {},
   "outputs": [
    {
     "name": "stderr",
     "output_type": "stream",
     "text": [
      "warning: in the working copy of 'git.ipynb', LF will be replaced by CRLF the next time Git touches it\n",
      "warning: in the working copy of 'troy/cleaning/templates/html_cleaning.ipynb', LF will be replaced by CRLF the next time Git touches it\n",
      "warning: in the working copy of 'troy/main_template/assets/css/bootstrap.css', LF will be replaced by CRLF the next time Git touches it\n",
      "warning: in the working copy of 'troy/main_template/assets/css/bootstrap.min.css', LF will be replaced by CRLF the next time Git touches it\n",
      "warning: in the working copy of 'troy/main_template/assets/fonts/boxicons.svg', LF will be replaced by CRLF the next time Git touches it\n",
      "warning: in the working copy of 'troy/main_template/assets/js/bootstrap.bundle.min.js', LF will be replaced by CRLF the next time Git touches it\n",
      "warning: in the working copy of 'troy/main_template/assets/js/isotope.pkgd.js', LF will be replaced by CRLF the next time Git touches it\n",
      "warning: in the working copy of 'troy/main_template/assets/js/jquery.min.js', LF will be replaced by CRLF the next time Git touches it\n"
     ]
    },
    {
     "name": "stdout",
     "output_type": "stream",
     "text": [
      "[main 1b1a4c1] cleaning new template\n",
      " 129 files changed, 20044 insertions(+), 16734 deletions(-)\n",
      " create mode 100644 troy/cleaning/templates/html_cleaning.ipynb\n",
      " delete mode 100644 troy/cleaning/templates/index_new_styling.html\n",
      " create mode 100644 troy/cleaning/templates/modified_file.html\n",
      " create mode 100644 troy/main_template/assets/css/bootstrap.css\n",
      " create mode 100644 troy/main_template/assets/css/bootstrap.min.css\n",
      " create mode 100644 troy/main_template/assets/css/boxicon.min.css\n",
      " create mode 100644 troy/main_template/assets/css/custom.css\n",
      " create mode 100644 troy/main_template/assets/css/templatemo.css\n",
      " create mode 100644 troy/main_template/assets/fonts/boxicons.eot\n",
      " create mode 100644 troy/main_template/assets/fonts/boxicons.svg\n",
      " create mode 100644 troy/main_template/assets/fonts/boxicons.ttf\n",
      " create mode 100644 troy/main_template/assets/fonts/boxicons.woff\n",
      " create mode 100644 troy/main_template/assets/fonts/boxicons.woff2\n",
      " create mode 100644 troy/main_template/assets/img/apple-icon.png\n",
      " create mode 100644 troy/main_template/assets/img/banner-bg-01.jpg\n",
      " create mode 100644 troy/main_template/assets/img/banner-bg-02.jpg\n",
      " create mode 100644 troy/main_template/assets/img/banner-bg-03.jpg\n",
      " create mode 100644 troy/main_template/assets/img/banner-img-01.svg\n",
      " create mode 100644 troy/main_template/assets/img/banner-img-02.svg\n",
      " create mode 100644 troy/main_template/assets/img/favicon.ico\n",
      " create mode 100644 troy/main_template/assets/img/feature-work-1-large.jpg\n",
      " create mode 100644 troy/main_template/assets/img/feature-work-1.jpg\n",
      " create mode 100644 troy/main_template/assets/img/feature-work-2-large.jpg\n",
      " create mode 100644 troy/main_template/assets/img/feature-work-2.jpg\n",
      " create mode 100644 troy/main_template/assets/img/feature-work-3-large.jpg\n",
      " create mode 100644 troy/main_template/assets/img/feature-work-3.jpg\n",
      " create mode 100644 troy/main_template/assets/img/feature-work-4-large.jpg\n",
      " create mode 100644 troy/main_template/assets/img/feature-work-4.jpg\n",
      " create mode 100644 troy/main_template/assets/img/our-work-01.jpg\n",
      " create mode 100644 troy/main_template/assets/img/our-work-02.jpg\n",
      " create mode 100644 troy/main_template/assets/img/our-work-03.jpg\n",
      " create mode 100644 troy/main_template/assets/img/our-work-04.jpg\n",
      " create mode 100644 troy/main_template/assets/img/our-work-05.jpg\n",
      " create mode 100644 troy/main_template/assets/img/our-work-06.jpg\n",
      " create mode 100644 troy/main_template/assets/img/pricing.svg\n",
      " create mode 100644 troy/main_template/assets/img/recent-work-01.jpg\n",
      " create mode 100644 troy/main_template/assets/img/recent-work-02.jpg\n",
      " create mode 100644 troy/main_template/assets/img/recent-work-03.jpg\n",
      " create mode 100644 troy/main_template/assets/img/recent-work-04.jpg\n",
      " create mode 100644 troy/main_template/assets/img/recent-work-05.jpg\n",
      " create mode 100644 troy/main_template/assets/img/recent-work-06.jpg\n",
      " create mode 100644 troy/main_template/assets/img/related-post-01.jpg\n",
      " create mode 100644 troy/main_template/assets/img/related-post-02.jpg\n",
      " create mode 100644 troy/main_template/assets/img/related-post-03.jpg\n",
      " create mode 100644 troy/main_template/assets/img/services-01.jpg\n",
      " create mode 100644 troy/main_template/assets/img/services-02.jpg\n",
      " create mode 100644 troy/main_template/assets/img/services-03.jpg\n",
      " create mode 100644 troy/main_template/assets/img/services-04.jpg\n",
      " create mode 100644 troy/main_template/assets/img/services-05.jpg\n",
      " create mode 100644 troy/main_template/assets/img/services-06.jpg\n",
      " create mode 100644 troy/main_template/assets/img/services-07.jpg\n",
      " create mode 100644 troy/main_template/assets/img/services-08.jpg\n",
      " create mode 100644 troy/main_template/assets/img/team-01.jpg\n",
      " create mode 100644 troy/main_template/assets/img/team-02.jpg\n",
      " create mode 100644 troy/main_template/assets/img/team-03.jpg\n",
      " create mode 100644 troy/main_template/assets/img/team-04.jpg\n",
      " create mode 100644 troy/main_template/assets/img/team-05.jpg\n",
      " create mode 100644 troy/main_template/assets/img/team-06.jpg\n",
      " create mode 100644 troy/main_template/assets/img/work-slide-01-small.jpg\n",
      " create mode 100644 troy/main_template/assets/img/work-slide-01.jpg\n",
      " create mode 100644 troy/main_template/assets/img/work-slide-02-small.jpg\n",
      " create mode 100644 troy/main_template/assets/img/work-slide-02.jpg\n",
      " create mode 100644 troy/main_template/assets/img/work-slide-03-small.jpg\n",
      " create mode 100644 troy/main_template/assets/img/work-slide-03.jpg\n",
      " create mode 100644 troy/main_template/assets/img/work-slide-04-small.jpg\n",
      " create mode 100644 troy/main_template/assets/img/work-slide-04.jpg\n",
      " create mode 100644 troy/main_template/assets/img/work-slide-05-small.jpg\n",
      " create mode 100644 troy/main_template/assets/img/work-slide-05.jpg\n",
      " create mode 100644 troy/main_template/assets/img/work-slide-06-small.jpg\n",
      " create mode 100644 troy/main_template/assets/img/work-slide-06.jpg\n",
      " create mode 100644 troy/main_template/assets/img/work.svg\n",
      " create mode 100644 troy/main_template/assets/js/bootstrap.bundle.min.js\n",
      " create mode 100644 troy/main_template/assets/js/custom.js\n",
      " create mode 100644 troy/main_template/assets/js/fslightbox.js\n",
      " create mode 100644 troy/main_template/assets/js/isotope.pkgd.js\n",
      " rename troy/main_template/{ => assets}/js/jquery.min.js (96%)\n",
      " create mode 100644 troy/main_template/assets/js/templatemo.js\n",
      " create mode 100644 troy/main_template/assets/js/templatemo.min.js\n",
      " delete mode 100644 troy/main_template/bmi/child_lookup.json\n",
      " delete mode 100644 troy/main_template/bmi/config.json\n",
      " delete mode 100644 troy/main_template/bmi/css/bmi-desktop.css\n",
      " delete mode 100644 troy/main_template/bmi/css/bmi-shared.css\n",
      " delete mode 100644 troy/main_template/bmi/data.json\n",
      " delete mode 100644 troy/main_template/bmi/images/alert_sml.png\n",
      " delete mode 100644 troy/main_template/bmi/images/input_bg.png\n",
      " delete mode 100644 troy/main_template/bmi/images/plus.png\n",
      " delete mode 100644 troy/main_template/bmi/images/pointer.png\n",
      " delete mode 100644 troy/main_template/bmi/images/slider_adult_1.png\n",
      " delete mode 100644 troy/main_template/bmi/images/slider_child.png\n",
      " delete mode 100644 troy/main_template/bmi/js/app.main.min.js\n",
      " delete mode 100644 troy/main_template/bmi/js/inline_launcher.js\n",
      " delete mode 100644 troy/main_template/bmi/templates/index copy.html\n",
      " delete mode 100644 troy/main_template/bmi/templates/index.html\n",
      " delete mode 100644 troy/main_template/bmi/vendor/jquery-3.2.1.min.js\n",
      " delete mode 100644 troy/main_template/css/bootstrap-icons.css\n",
      " delete mode 100644 troy/main_template/css/bootstrap.min.css\n",
      " delete mode 100644 troy/main_template/css/bootstrap.min.css.map\n",
      " delete mode 100644 troy/main_template/css/heart_bit.css\n",
      " delete mode 100644 troy/main_template/css/rotating_border_animated_buttons.css\n",
      " delete mode 100644 troy/main_template/css/templatemo-topic-listing.css\n",
      " delete mode 100644 troy/main_template/fonts/bootstrap-icons.woff\n",
      " delete mode 100644 troy/main_template/fonts/bootstrap-icons.woff2\n",
      " delete mode 100644 troy/main_template/images/businesswoman-using-tablet-analysis.jpg\n",
      " delete mode 100644 troy/main_template/images/colleagues-working-cozy-office-medium-shot.jpg\n",
      " delete mode 100644 troy/main_template/images/faq_graphic.jpg\n",
      " delete mode 100644 troy/main_template/images/rear-view-young-college-student.jpg\n",
      " delete mode 100644 troy/main_template/images/topics/3783573.jpg\n",
      " delete mode 100644 troy/main_template/images/topics/52068.jpg\n",
      " delete mode 100644 troy/main_template/images/topics/colleagues-working-cozy-office-medium-shot.png\n",
      " delete mode 100644 troy/main_template/images/topics/commercial.png\n",
      " delete mode 100644 troy/main_template/images/topics/undraw_Compose_music_re_wpiw.png\n",
      " delete mode 100644 troy/main_template/images/topics/undraw_Educator_re_ju47.png\n",
      " delete mode 100644 troy/main_template/images/topics/undraw_Finance_re_gnv2.png\n",
      " delete mode 100644 troy/main_template/images/topics/undraw_Graduation_re_gthn.png\n",
      " delete mode 100644 troy/main_template/images/topics/undraw_Group_video_re_btu7.png\n",
      " delete mode 100644 troy/main_template/images/topics/undraw_Podcast_audience_re_4i5q.png\n",
      " delete mode 100644 troy/main_template/images/topics/undraw_Redesign_feedback_re_jvm0.png\n",
      " delete mode 100644 troy/main_template/images/topics/undraw_Remote_design_team_re_urdx.png\n",
      " delete mode 100644 troy/main_template/images/topics/undraw_happy_music_g6wc.png\n",
      " delete mode 100644 troy/main_template/images/topics/undraw_online_ad_re_ol62.png\n",
      " delete mode 100644 troy/main_template/images/topics/undraw_viral_tweet_gndb.png\n",
      " delete mode 100644 troy/main_template/js/bootstrap.bundle.min.js\n",
      " delete mode 100644 troy/main_template/js/bootstrap.bundle.min.js.map\n",
      " delete mode 100644 troy/main_template/js/click-scroll.js\n",
      " delete mode 100644 troy/main_template/js/custom.js\n",
      " delete mode 100644 troy/main_template/js/jquery.sticky.js\n",
      " delete mode 100644 troy/main_template/js/med_details_results.js\n"
     ]
    },
    {
     "name": "stderr",
     "output_type": "stream",
     "text": [
      "To https://github.com/Nirab123456/troy.git\n",
      "   ab57d70..1b1a4c1  main -> main\n"
     ]
    }
   ],
   "source": [
    "!git add .\n",
    "!git commit -m \"cleaning new template\"\n",
    "!git push "
   ]
  },
  {
   "cell_type": "code",
   "execution_count": 1,
   "metadata": {},
   "outputs": [
    {
     "name": "stderr",
     "output_type": "stream",
     "text": [
      "warning: in the working copy of 'git.ipynb', LF will be replaced by CRLF the next time Git touches it\n"
     ]
    },
    {
     "name": "stdout",
     "output_type": "stream",
     "text": [
      "[rifatul_islam_v5_refresh 64ad665] presciption classification has been also shifted now i will restracture the full project in another branch\n",
      " 2 files changed, 42 insertions(+), 11 deletions(-)\n"
     ]
    },
    {
     "name": "stderr",
     "output_type": "stream",
     "text": [
      "remote: \n",
      "remote: GitHub found 25 vulnerabilities on Nirab123456/learn_django's default branch (6 critical, 13 high, 5 moderate, 1 low). To find out more, visit:        \n",
      "remote:      https://github.com/Nirab123456/learn_django/security/dependabot        \n",
      "remote: \n",
      "To https://github.com/Nirab123456/learn_django.git\n",
      "   7106a27..64ad665  rifatul_islam_v5_refresh -> rifatul_islam_v5_refresh\n"
     ]
    }
   ],
   "source": [
    "!git add .\n",
    "!git commit -m \"presciption classification has been also shifted now i will restracture the full project in another branch\"\n",
    "!git push origin rifatul_islam_v5_refresh"
   ]
  },
  {
   "cell_type": "code",
   "execution_count": null,
   "metadata": {},
   "outputs": [],
   "source": [
    "!git status"
   ]
  },
  {
   "cell_type": "code",
   "execution_count": null,
   "metadata": {},
   "outputs": [],
   "source": [
    "!git add ."
   ]
  },
  {
   "cell_type": "code",
   "execution_count": null,
   "metadata": {},
   "outputs": [],
   "source": [
    "!git commit -m \" \""
   ]
  },
  {
   "cell_type": "code",
   "execution_count": null,
   "metadata": {},
   "outputs": [],
   "source": [
    "\n",
    "!git push origin Banglaocr"
   ]
  },
  {
   "cell_type": "code",
   "execution_count": null,
   "metadata": {},
   "outputs": [],
   "source": [
    "!git checkout Banglaocr_with_bootstrap5\n"
   ]
  },
  {
   "cell_type": "code",
   "execution_count": null,
   "metadata": {},
   "outputs": [],
   "source": [
    "!git push origin secondary\n"
   ]
  },
  {
   "cell_type": "code",
   "execution_count": null,
   "metadata": {},
   "outputs": [],
   "source": [
    "!git status"
   ]
  }
 ],
 "metadata": {
  "kernelspec": {
   "display_name": "tf",
   "language": "python",
   "name": "python3"
  },
  "language_info": {
   "codemirror_mode": {
    "name": "ipython",
    "version": 3
   },
   "file_extension": ".py",
   "mimetype": "text/x-python",
   "name": "python",
   "nbconvert_exporter": "python",
   "pygments_lexer": "ipython3",
   "version": "3.8.16"
  },
  "orig_nbformat": 4
 },
 "nbformat": 4,
 "nbformat_minor": 2
}
