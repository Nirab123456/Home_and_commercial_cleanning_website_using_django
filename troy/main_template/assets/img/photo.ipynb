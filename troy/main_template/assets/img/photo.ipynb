{
 "cells": [
  {
   "cell_type": "code",
   "execution_count": 3,
   "metadata": {},
   "outputs": [
    {
     "name": "stdout",
     "output_type": "stream",
     "text": [
      "Width: 400 pixels\n",
      "Height: 400 pixels\n"
     ]
    }
   ],
   "source": [
    "from PIL import Image\n",
    "\n",
    "# Open the image file\n",
    "image_path = 'banner-bg-01.jpg'  # Replace with the path to your image file\n",
    "image = Image.open(image_path)\n",
    "\n",
    "# Get the dimensions (width and height) of the image\n",
    "width, height = image.size\n",
    "\n",
    "# Print the dimensions\n",
    "print(f\"Width: {width} pixels\")\n",
    "print(f\"Height: {height} pixels\")\n",
    "\n",
    "# Optionally, you can close the image\n",
    "image.close()\n"
   ]
  }
 ],
 "metadata": {
  "kernelspec": {
   "display_name": "tf",
   "language": "python",
   "name": "python3"
  },
  "language_info": {
   "codemirror_mode": {
    "name": "ipython",
    "version": 3
   },
   "file_extension": ".py",
   "mimetype": "text/x-python",
   "name": "python",
   "nbconvert_exporter": "python",
   "pygments_lexer": "ipython3",
   "version": "3.8.16"
  },
  "orig_nbformat": 4
 },
 "nbformat": 4,
 "nbformat_minor": 2
}
