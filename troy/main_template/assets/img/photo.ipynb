{
 "cells": [
  {
   "cell_type": "code",
   "execution_count": null,
   "metadata": {},
   "outputs": [],
   "source": [
    "from PIL import Image\n",
    "\n",
    "# Open the image file\n",
    "image_path = 'your_image.jpg'  # Replace with the path to your image file\n",
    "image = Image.open(image_path)\n",
    "\n",
    "# Get the dimensions (width and height) of the image\n",
    "width, height = image.size\n",
    "\n",
    "# Print the dimensions\n",
    "print(f\"Width: {width} pixels\")\n",
    "print(f\"Height: {height} pixels\")\n",
    "\n",
    "# Optionally, you can close the image\n",
    "image.close()\n"
   ]
  }
 ],
 "metadata": {
  "language_info": {
   "name": "python"
  },
  "orig_nbformat": 4
 },
 "nbformat": 4,
 "nbformat_minor": 2
}
