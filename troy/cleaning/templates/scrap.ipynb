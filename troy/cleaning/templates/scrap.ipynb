{
 "cells": [
  {
   "cell_type": "code",
   "execution_count": null,
   "metadata": {},
   "outputs": [],
   "source": [
    "from django.contrib import admin\n",
    "from .models import contact_to_hire\n",
    "\n",
    "# Register your models here.\n",
    "\n",
    "@admin.register(contact_to_hire)\n",
    "class contact_to_hireAdmin(admin.ModelAdmin):\n",
    "    list_display = ('name', 'email', 'phone', 'subject', 'message', 'company', 'date', 'seen')  # Add 'seen' to the list_display\n",
    "    list_filter = ('name', 'email', 'phone', 'subject', 'message', 'company', 'date')\n",
    "    ordering = ('name',)\n",
    "    search_fields = ('name', 'email', 'phone', 'subject', 'message', 'company', 'date')\n",
    "    list_editable = ('seen',)  # Add 'seen' to the list_editable fields\n",
    "\n",
    "    def get_list_display(self, request):\n",
    "        \"\"\"\n",
    "        Customize the list_display based on user permissions.\n",
    "        For example, only superusers can see the 'seen' field.\n",
    "        \"\"\"\n",
    "        if request.user.is_superuser:\n",
    "            return self.list_display\n",
    "        else:\n",
    "            return tuple(field for field in self.list_display if field != 'seen')\n",
    "\n",
    "    def has_change_permission(self, request, obj=None):\n",
    "        \"\"\"\n",
    "        Only allow superusers to change the 'seen' field.\n",
    "        \"\"\"\n",
    "        if obj is not None and not request.user.is_superuser:\n",
    "            return False\n",
    "        return True\n",
    "\n",
    "    def has_delete_permission(self, request, obj=None):\n",
    "        \"\"\"\n",
    "        Only allow superusers to delete items.\n",
    "        \"\"\"\n",
    "        if obj is not None and not request.user.is_superuser:\n",
    "            return False\n",
    "        return True\n",
    "\n"
   ]
  }
 ],
 "metadata": {
  "language_info": {
   "name": "python"
  },
  "orig_nbformat": 4
 },
 "nbformat": 4,
 "nbformat_minor": 2
}
