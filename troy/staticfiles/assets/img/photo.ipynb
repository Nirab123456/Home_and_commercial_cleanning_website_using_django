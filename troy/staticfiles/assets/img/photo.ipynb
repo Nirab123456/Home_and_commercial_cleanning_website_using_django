{
 "cells": [
  {
   "cell_type": "code",
   "execution_count": 1,
   "metadata": {},
   "outputs": [
    {
     "ename": "UnidentifiedImageError",
     "evalue": "cannot identify image file 'banner-img-01.svg'",
     "output_type": "error",
     "traceback": [
      "\u001b[1;31m---------------------------------------------------------------------------\u001b[0m",
      "\u001b[1;31mUnidentifiedImageError\u001b[0m                    Traceback (most recent call last)",
      "\u001b[1;32md:\\cleaning_website\\troy\\troy\\static\\assets\\img\\photo.ipynb Cell 1\u001b[0m in \u001b[0;36m<cell line: 5>\u001b[1;34m()\u001b[0m\n\u001b[0;32m      <a href='vscode-notebook-cell:/d%3A/cleaning_website/troy/troy/static/assets/img/photo.ipynb#W0sZmlsZQ%3D%3D?line=2'>3</a>\u001b[0m \u001b[39m# Open the image file\u001b[39;00m\n\u001b[0;32m      <a href='vscode-notebook-cell:/d%3A/cleaning_website/troy/troy/static/assets/img/photo.ipynb#W0sZmlsZQ%3D%3D?line=3'>4</a>\u001b[0m image_path \u001b[39m=\u001b[39m \u001b[39m'\u001b[39m\u001b[39mbanner-img-01.svg\u001b[39m\u001b[39m'\u001b[39m  \u001b[39m# Replace with the path to your image file\u001b[39;00m\n\u001b[1;32m----> <a href='vscode-notebook-cell:/d%3A/cleaning_website/troy/troy/static/assets/img/photo.ipynb#W0sZmlsZQ%3D%3D?line=4'>5</a>\u001b[0m image \u001b[39m=\u001b[39m Image\u001b[39m.\u001b[39;49mopen(image_path)\n\u001b[0;32m      <a href='vscode-notebook-cell:/d%3A/cleaning_website/troy/troy/static/assets/img/photo.ipynb#W0sZmlsZQ%3D%3D?line=6'>7</a>\u001b[0m \u001b[39m# Get the dimensions (width and height) of the image\u001b[39;00m\n\u001b[0;32m      <a href='vscode-notebook-cell:/d%3A/cleaning_website/troy/troy/static/assets/img/photo.ipynb#W0sZmlsZQ%3D%3D?line=7'>8</a>\u001b[0m width, height \u001b[39m=\u001b[39m image\u001b[39m.\u001b[39msize\n",
      "File \u001b[1;32mc:\\Users\\rifat\\miniconda3\\envs\\tf\\lib\\site-packages\\PIL\\Image.py:2958\u001b[0m, in \u001b[0;36mopen\u001b[1;34m(fp, mode, formats)\u001b[0m\n\u001b[0;32m   2956\u001b[0m \u001b[39mfor\u001b[39;00m message \u001b[39min\u001b[39;00m accept_warnings:\n\u001b[0;32m   2957\u001b[0m     warnings\u001b[39m.\u001b[39mwarn(message)\n\u001b[1;32m-> 2958\u001b[0m \u001b[39mraise\u001b[39;00m UnidentifiedImageError(\n\u001b[0;32m   2959\u001b[0m     \u001b[39m\"\u001b[39m\u001b[39mcannot identify image file \u001b[39m\u001b[39m%r\u001b[39;00m\u001b[39m\"\u001b[39m \u001b[39m%\u001b[39m (filename \u001b[39mif\u001b[39;00m filename \u001b[39melse\u001b[39;00m fp)\n\u001b[0;32m   2960\u001b[0m )\n",
      "\u001b[1;31mUnidentifiedImageError\u001b[0m: cannot identify image file 'banner-img-01.svg'"
     ]
    }
   ],
   "source": [
    "from PIL import Image\n",
    "\n",
    "# Open the image file\n",
    "image_path = 'banner-bg-01.jpg'  # Replace with the path to your image file\n",
    "image = Image.open(image_path)\n",
    "\n",
    "# Get the dimensions (width and height) of the image\n",
    "width, height = image.size\n",
    "\n",
    "# Print the dimensions\n",
    "print(f\"Width: {width} pixels\")\n",
    "print(f\"Height: {height} pixels\")\n",
    "\n",
    "# Optionally, you can close the image\n",
    "image.close()\n"
   ]
  }
 ],
 "metadata": {
  "kernelspec": {
   "display_name": "tf",
   "language": "python",
   "name": "python3"
  },
  "language_info": {
   "codemirror_mode": {
    "name": "ipython",
    "version": 3
   },
   "file_extension": ".py",
   "mimetype": "text/x-python",
   "name": "python",
   "nbconvert_exporter": "python",
   "pygments_lexer": "ipython3",
   "version": "3.8.16"
  },
  "orig_nbformat": 4
 },
 "nbformat": 4,
 "nbformat_minor": 2
}
